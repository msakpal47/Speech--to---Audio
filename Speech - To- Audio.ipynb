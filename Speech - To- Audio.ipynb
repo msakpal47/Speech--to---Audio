{
 "cells": [
  {
   "cell_type": "code",
   "execution_count": 3,
   "id": "abf80964",
   "metadata": {},
   "outputs": [
    {
     "name": "stdout",
     "output_type": "stream",
     "text": [
      "Collecting pyttsx3\n",
      "  Obtaining dependency information for pyttsx3 from https://files.pythonhosted.org/packages/33/9a/de4781245f5ad966646fd276259ef7cfd400ba3cf7d5db7c0d5aab310c20/pyttsx3-2.90-py3-none-any.whl.metadata\n",
      "  Using cached pyttsx3-2.90-py3-none-any.whl.metadata (3.6 kB)\n",
      "Collecting comtypes (from pyttsx3)\n",
      "  Obtaining dependency information for comtypes from https://files.pythonhosted.org/packages/3c/e0/6164ef8362e06562d132028611b3e1d3026497042e5d72de64e3ce03a42f/comtypes-1.4.2-py3-none-any.whl.metadata\n",
      "  Downloading comtypes-1.4.2-py3-none-any.whl.metadata (4.1 kB)\n",
      "Collecting pypiwin32 (from pyttsx3)\n",
      "  Obtaining dependency information for pypiwin32 from https://files.pythonhosted.org/packages/d0/1b/2f292bbd742e369a100c91faa0483172cd91a1a422a6692055ac920946c5/pypiwin32-223-py3-none-any.whl.metadata\n",
      "  Downloading pypiwin32-223-py3-none-any.whl.metadata (236 bytes)\n",
      "Requirement already satisfied: pywin32 in c:\\users\\c-dot\\anaconda5\\lib\\site-packages (from pyttsx3) (305.1)\n",
      "Downloading pyttsx3-2.90-py3-none-any.whl (39 kB)\n",
      "Downloading comtypes-1.4.2-py3-none-any.whl (201 kB)\n",
      "   ---------------------------------------- 0.0/201.2 kB ? eta -:--:--\n",
      "   ------- ------------------------------- 41.0/201.2 kB 991.0 kB/s eta 0:00:01\n",
      "   ------- ------------------------------- 41.0/201.2 kB 991.0 kB/s eta 0:00:01\n",
      "   ------- ------------------------------- 41.0/201.2 kB 991.0 kB/s eta 0:00:01\n",
      "   --------------------- ---------------- 112.6/201.2 kB 595.3 kB/s eta 0:00:01\n",
      "   ----------------------- -------------- 122.9/201.2 kB 514.3 kB/s eta 0:00:01\n",
      "   ------------------------------------ - 194.6/201.2 kB 737.3 kB/s eta 0:00:01\n",
      "   ------------------------------------ - 194.6/201.2 kB 737.3 kB/s eta 0:00:01\n",
      "   -------------------------------------- 201.2/201.2 kB 555.2 kB/s eta 0:00:00\n",
      "Downloading pypiwin32-223-py3-none-any.whl (1.7 kB)\n",
      "Installing collected packages: comtypes, pypiwin32, pyttsx3\n",
      "Successfully installed comtypes-1.4.2 pypiwin32-223 pyttsx3-2.90\n",
      "Note: you may need to restart the kernel to use updated packages.\n"
     ]
    }
   ],
   "source": [
    "pip install pyttsx3\n"
   ]
  },
  {
   "cell_type": "code",
   "execution_count": 4,
   "id": "53a16ff1",
   "metadata": {},
   "outputs": [
    {
     "name": "stdout",
     "output_type": "stream",
     "text": [
      "Collecting tk\n",
      "  Obtaining dependency information for tk from https://files.pythonhosted.org/packages/1e/0b/029cbdb868bb555fed99bf6540fff072d500b3f895873709f25084e85e33/tk-0.1.0-py3-none-any.whl.metadata\n",
      "  Using cached tk-0.1.0-py3-none-any.whl.metadata (693 bytes)\n",
      "Using cached tk-0.1.0-py3-none-any.whl (3.9 kB)\n",
      "Installing collected packages: tk\n",
      "Successfully installed tk-0.1.0\n",
      "Note: you may need to restart the kernel to use updated packages.\n"
     ]
    }
   ],
   "source": [
    "pip install tk\n"
   ]
  },
  {
   "cell_type": "code",
   "execution_count": 5,
   "id": "07e55b1f",
   "metadata": {},
   "outputs": [],
   "source": [
    "import tkinter as tk\n",
    "from tkinter import scrolledtext, messagebox\n",
    "import pyttsx3\n",
    "\n",
    "# Initialize the text-to-speech engine\n",
    "engine = pyttsx3.init()\n",
    "\n",
    "# Function to convert text to speech\n",
    "def text_to_speech(text):\n",
    "    try:\n",
    "        engine.say(text)\n",
    "        engine.runAndWait()\n",
    "    except Exception as e:\n",
    "        messagebox.showerror(\"Error\", str(e))\n",
    "\n",
    "# Function to handle the button click event\n",
    "def on_speak():\n",
    "    user_input = input_text.get(\"1.0\", tk.END).strip()\n",
    "    if user_input:\n",
    "        text_to_speech(user_input)\n",
    "    else:\n",
    "        messagebox.showwarning(\"Warning\", \"Please enter some text.\")\n",
    "\n",
    "# Initialize the main window\n",
    "root = tk.Tk()\n",
    "root.title(\"Text to Speech Converter\")\n",
    "\n",
    "# Input text widget\n",
    "input_label = tk.Label(root, text=\"Enter your text:\")\n",
    "input_label.pack(pady=5)\n",
    "\n",
    "input_text = scrolledtext.ScrolledText(root, wrap=tk.WORD, width=50, height=10)\n",
    "input_text.pack(pady=5)\n",
    "\n",
    "# Speak button\n",
    "speak_button = tk.Button(root, text=\"Speak\", command=on_speak)\n",
    "speak_button.pack(pady=20)\n",
    "\n",
    "# Start the Tkinter event loop\n",
    "root.mainloop()\n"
   ]
  },
  {
   "cell_type": "code",
   "execution_count": null,
   "id": "be6a8cc8",
   "metadata": {},
   "outputs": [],
   "source": []
  }
 ],
 "metadata": {
  "kernelspec": {
   "display_name": "Python 3 (ipykernel)",
   "language": "python",
   "name": "python3"
  },
  "language_info": {
   "codemirror_mode": {
    "name": "ipython",
    "version": 3
   },
   "file_extension": ".py",
   "mimetype": "text/x-python",
   "name": "python",
   "nbconvert_exporter": "python",
   "pygments_lexer": "ipython3",
   "version": "3.11.5"
  }
 },
 "nbformat": 4,
 "nbformat_minor": 5
}
